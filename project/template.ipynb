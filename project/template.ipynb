{
 "cells": [
  {
   "attachments": {},
   "cell_type": "markdown",
   "metadata": {},
   "source": [
    "# Welcome to Full Stack Machine Learning's Week 4 Project!\n",
    "\n",
    "In the final week, you will return to the workflow you built last week on the [taxi dataset](https://www.nyc.gov/site/tlc/about/tlc-trip-record-data.page). "
   ]
  },
  {
   "attachments": {},
   "cell_type": "markdown",
   "metadata": {},
   "source": [
    "## Task 1: Deploy the champion\n",
    "Use what you have learned in the last two weeks to make necessary modifications and to deploy your latest version of the `TaxiFarePrediction` flow to Argo. Use `--branch champion` to denote this deployment as the champion model."
   ]
  },
  {
   "attachments": {},
   "cell_type": "markdown",
   "metadata": {},
   "source": [
    "Note, the argo trigger is currently not working for this flow, so I'm manually triggering the flow."
   ]
  },
  {
   "cell_type": "code",
   "execution_count": 2,
   "metadata": {},
   "outputs": [
    {
     "name": "stdout",
     "output_type": "stream",
     "text": [
      "\u001b[35m\u001b[1mMetaflow 2.10.6+ob(v1)\u001b[0m\u001b[35m\u001b[22m executing \u001b[0m\u001b[31m\u001b[1mTaxiFarePrediction\u001b[0m\u001b[35m\u001b[22m\u001b[0m\u001b[35m\u001b[22m for \u001b[0m\u001b[31m\u001b[1muser:sandbox\u001b[0m\u001b[35m\u001b[22m\u001b[K\u001b[0m\u001b[35m\u001b[22m\u001b[0m\n",
      "\u001b[35m\u001b[22mProject: \u001b[0m\u001b[32m\u001b[1mfullstack\u001b[0m\u001b[35m\u001b[22m, Branch: \u001b[0m\u001b[32m\u001b[1mprod.champion\u001b[0m\u001b[35m\u001b[22m\u001b[K\u001b[0m\u001b[35m\u001b[22m\u001b[0m\n",
      "\u001b[35m\u001b[22mValidating your flow...\u001b[K\u001b[0m\u001b[35m\u001b[22m\u001b[0m\n",
      "\u001b[32m\u001b[1m    The graph looks good!\u001b[K\u001b[0m\u001b[32m\u001b[1m\u001b[0m\n",
      "\u001b[35m\u001b[22mRunning pylint...\u001b[K\u001b[0m\u001b[35m\u001b[22m\u001b[0m\n",
      "\u001b[32m\u001b[1m    Pylint is happy!\u001b[K\u001b[0m\u001b[32m\u001b[1m\u001b[0m\n",
      "\u001b[1mDeploying \u001b[0m\u001b[31m\u001b[1mfullstack.prod.champion.taxifareprediction\u001b[0m\u001b[1m to Argo Workflows...\u001b[K\u001b[0m\u001b[1m\u001b[0m\n",
      "\u001b[22mIt seems this is the first time you are deploying \u001b[0m\u001b[31m\u001b[1mfullstack.prod.champion.taxifareprediction\u001b[0m\u001b[22m to Argo Workflows.\u001b[K\u001b[0m\u001b[22m\u001b[0m\n",
      "\u001b[22m\u001b[K\u001b[0m\u001b[22m\u001b[0m\n",
      "\u001b[22mA new production token generated.\u001b[K\u001b[0m\u001b[22m\u001b[0m\n",
      "\u001b[22m\u001b[K\u001b[0m\u001b[22m\u001b[0m\n",
      "\u001b[22mThe namespace of this production flow is\u001b[K\u001b[0m\u001b[22m\u001b[0m\n",
      "\u001b[32m\u001b[22m    production:mfprj-cqkixzvdsy3tjqdh-0-ndkt\u001b[K\u001b[0m\u001b[32m\u001b[22m\u001b[0m\n",
      "\u001b[22mTo analyze results of this production flow add this line in your notebooks:\u001b[K\u001b[0m\u001b[22m\u001b[0m\n",
      "\u001b[32m\u001b[22m    namespace(\"production:mfprj-cqkixzvdsy3tjqdh-0-ndkt\")\u001b[K\u001b[0m\u001b[32m\u001b[22m\u001b[0m\n",
      "\u001b[22mIf you want to authorize other people to deploy new versions of this flow to Argo Workflows, they need to call\u001b[K\u001b[0m\u001b[22m\u001b[0m\n",
      "\u001b[32m\u001b[22m    argo-workflows create --authorize mfprj-cqkixzvdsy3tjqdh-0-ndkt\u001b[K\u001b[0m\u001b[32m\u001b[22m\u001b[0m\n",
      "\u001b[22mwhen deploying this flow to Argo Workflows for the first time.\u001b[K\u001b[0m\u001b[22m\u001b[0m\n",
      "\u001b[22mSee \"Organizing Results\" at https://docs.metaflow.org/ for more information about production tokens.\u001b[K\u001b[0m\u001b[22m\u001b[0m\n",
      "\u001b[22m\u001b[K\u001b[0m\u001b[22m\u001b[0m\n",
      "\u001b[22mBootstrapping virtual environment(s) ...\u001b[K\u001b[0m\u001b[22m\u001b[0m\n",
      "\u001b[22mVirtual environment(s) bootstrapped!\u001b[K\u001b[0m\u001b[22m\u001b[0m\n",
      "\u001b[1mWorkflow \u001b[0m\u001b[31m\u001b[1mfullstack.prod.champion.taxifareprediction\u001b[0m\u001b[1m for flow \u001b[0m\u001b[31m\u001b[1mTaxiFarePrediction\u001b[0m\u001b[1m pushed to Argo Workflows successfully.\n",
      "\u001b[K\u001b[0m\u001b[1m\u001b[0m\n",
      "\u001b[22mNote that the flow was deployed with a modified name due to Kubernetes naming conventions\n",
      "on Argo Workflows. The original flow name is stored in the workflow annotation.\n",
      "\u001b[K\u001b[0m\u001b[22m\u001b[0m\n",
      "\u001b[1mSee the deployed workflow here:\u001b[K\u001b[0m\u001b[1m\u001b[0m\n",
      "\u001b[22m    https://argo-pw-1851997417.outerbounds.dev/workflow-templates/jobs-pw-1851997417/fullstack.prod.champion.taxifareprediction\n",
      "    \u001b[K\u001b[0m\u001b[22m\u001b[0m\n",
      "\u001b[1mWhat will trigger execution of the workflow:\u001b[K\u001b[0m\u001b[1m\u001b[0m\n",
      "\u001b[22m    No triggers defined. You need to launch this workflow manually.\u001b[K\u001b[0m\u001b[22m\u001b[0m\n",
      "\u001b[35m\u001b[1mMetaflow 2.10.6+ob(v1)\u001b[0m\u001b[35m\u001b[22m executing \u001b[0m\u001b[31m\u001b[1mTaxiFarePrediction\u001b[0m\u001b[35m\u001b[22m\u001b[0m\u001b[35m\u001b[22m for \u001b[0m\u001b[31m\u001b[1muser:sandbox\u001b[0m\u001b[35m\u001b[22m\u001b[K\u001b[0m\u001b[35m\u001b[22m\u001b[0m\n",
      "\u001b[35m\u001b[22mProject: \u001b[0m\u001b[32m\u001b[1mfullstack\u001b[0m\u001b[35m\u001b[22m, Branch: \u001b[0m\u001b[32m\u001b[1mprod.champion\u001b[0m\u001b[35m\u001b[22m\u001b[K\u001b[0m\u001b[35m\u001b[22m\u001b[0m\n",
      "\u001b[35m\u001b[22mValidating your flow...\u001b[K\u001b[0m\u001b[35m\u001b[22m\u001b[0m\n",
      "\u001b[32m\u001b[1m    The graph looks good!\u001b[K\u001b[0m\u001b[32m\u001b[1m\u001b[0m\n",
      "\u001b[35m\u001b[22mRunning pylint...\u001b[K\u001b[0m\u001b[35m\u001b[22m\u001b[0m\n",
      "\u001b[32m\u001b[1m    Pylint is happy!\u001b[K\u001b[0m\u001b[32m\u001b[1m\u001b[0m\n",
      "\u001b[1mWorkflow \u001b[0m\u001b[31m\u001b[1mfullstack.prod.champion.taxifareprediction\u001b[0m\u001b[1m triggered on Argo Workflows (run-id \u001b[0m\u001b[31m\u001b[1margo-fullstack.prod.champion.taxifareprediction-jtmzs\u001b[0m\u001b[1m).\u001b[K\u001b[0m\u001b[1m\u001b[0m\n",
      "\u001b[1mSee the run in the UI at https://ui-pw-1851997417.outerbounds.dev/TaxiFarePrediction/argo-fullstack.prod.champion.taxifareprediction-jtmzs\u001b[K\u001b[0m\u001b[1m\u001b[0m\n"
     ]
    }
   ],
   "source": [
    "!python ../flows/cloud/event_triggered_linear_regression.py --environment=conda --production --branch champion argo-workflows create\n",
    "!python ../flows/cloud/event_triggered_linear_regression.py --environment=conda --production --branch champion argo-workflows trigger"
   ]
  },
  {
   "cell_type": "code",
   "execution_count": null,
   "metadata": {},
   "outputs": [],
   "source": [
    "!python ../flows/cloud/event_triggered_linear_regression.py --environment=conda --production --branch champion argo-workflows create\n",
    "!python ../flows/cloud/event_triggered_linear_regression.py --environment=conda --production --branch champion argo-workflows trigger"
   ]
  },
  {
   "cell_type": "code",
   "execution_count": null,
   "metadata": {},
   "outputs": [],
   "source": [
    "champ_namespace='production:mfprj-cqkixzvdsy3tjqdh-0-ndkt'"
   ]
  },
  {
   "attachments": {},
   "cell_type": "markdown",
   "metadata": {},
   "source": [
    "## Task 2: Build the challenger\n",
    "Develop a second model, by using the same `TaxiFarePrediction` architecture. Then, deploy the flow to Argo as the `--branch challenger`. \n",
    "<br>\n",
    "<br>\n",
    "Hint: Modify the `linear_model` step. \n",
    "<br>\n",
    "Bonus: Write a paragraph summary of how you developed the second model and tested it before deploying the challenger flow. Let us know in Slack what you found challenging about the task? "
   ]
  },
  {
   "attachments": {},
   "cell_type": "markdown",
   "metadata": {},
   "source": [
    "I took the flow from week 3, which already included linear regression and some additional steps to weed out bad data.  Then I added one more predictor to the model, \"passenger_count\"."
   ]
  },
  {
   "cell_type": "code",
   "execution_count": 32,
   "metadata": {},
   "outputs": [
    {
     "name": "stdout",
     "output_type": "stream",
     "text": [
      "\u001b[35m\u001b[1mMetaflow 2.10.6+ob(v1)\u001b[0m\u001b[35m\u001b[22m executing \u001b[0m\u001b[31m\u001b[1mTaxiFarePrediction\u001b[0m\u001b[35m\u001b[22m\u001b[0m\u001b[35m\u001b[22m for \u001b[0m\u001b[31m\u001b[1muser:sandbox\u001b[0m\u001b[35m\u001b[22m\u001b[K\u001b[0m\u001b[35m\u001b[22m\u001b[0m\n",
      "\u001b[35m\u001b[22mProject: \u001b[0m\u001b[32m\u001b[1mfullstack\u001b[0m\u001b[35m\u001b[22m, Branch: \u001b[0m\u001b[32m\u001b[1mprod.challenger\u001b[0m\u001b[35m\u001b[22m\u001b[K\u001b[0m\u001b[35m\u001b[22m\u001b[0m\n",
      "\u001b[35m\u001b[22mValidating your flow...\u001b[K\u001b[0m\u001b[35m\u001b[22m\u001b[0m\n",
      "\u001b[32m\u001b[1m    The graph looks good!\u001b[K\u001b[0m\u001b[32m\u001b[1m\u001b[0m\n",
      "\u001b[35m\u001b[22mRunning pylint...\u001b[K\u001b[0m\u001b[35m\u001b[22m\u001b[0m\n",
      "\u001b[32m\u001b[1m    Pylint is happy!\u001b[K\u001b[0m\u001b[32m\u001b[1m\u001b[0m\n",
      "\u001b[1mDeploying \u001b[0m\u001b[31m\u001b[1mfullstack.prod.challenger.taxifareprediction\u001b[0m\u001b[1m to Argo Workflows...\u001b[K\u001b[0m\u001b[1m\u001b[0m\n",
      "\u001b[22m\u001b[K\u001b[0m\u001b[22m\u001b[0m\n",
      "\u001b[22mThe namespace of this production flow is\u001b[K\u001b[0m\u001b[22m\u001b[0m\n",
      "\u001b[32m\u001b[22m    production:mfprj-uj55bdalmyvezuhl-0-bixe\u001b[K\u001b[0m\u001b[32m\u001b[22m\u001b[0m\n",
      "\u001b[22mTo analyze results of this production flow add this line in your notebooks:\u001b[K\u001b[0m\u001b[22m\u001b[0m\n",
      "\u001b[32m\u001b[22m    namespace(\"production:mfprj-uj55bdalmyvezuhl-0-bixe\")\u001b[K\u001b[0m\u001b[32m\u001b[22m\u001b[0m\n",
      "\u001b[22mIf you want to authorize other people to deploy new versions of this flow to Argo Workflows, they need to call\u001b[K\u001b[0m\u001b[22m\u001b[0m\n",
      "\u001b[32m\u001b[22m    argo-workflows create --authorize mfprj-uj55bdalmyvezuhl-0-bixe\u001b[K\u001b[0m\u001b[32m\u001b[22m\u001b[0m\n",
      "\u001b[22mwhen deploying this flow to Argo Workflows for the first time.\u001b[K\u001b[0m\u001b[22m\u001b[0m\n",
      "\u001b[22mSee \"Organizing Results\" at https://docs.metaflow.org/ for more information about production tokens.\u001b[K\u001b[0m\u001b[22m\u001b[0m\n",
      "\u001b[22m\u001b[K\u001b[0m\u001b[22m\u001b[0m\n",
      "\u001b[22mBootstrapping virtual environment(s) ...\u001b[K\u001b[0m\u001b[22m\u001b[0m\n",
      "\u001b[22mVirtual environment(s) bootstrapped!\u001b[K\u001b[0m\u001b[22m\u001b[0m\n",
      "\u001b[1mWorkflow \u001b[0m\u001b[31m\u001b[1mfullstack.prod.challenger.taxifareprediction\u001b[0m\u001b[1m for flow \u001b[0m\u001b[31m\u001b[1mTaxiFarePrediction\u001b[0m\u001b[1m pushed to Argo Workflows successfully.\n",
      "\u001b[K\u001b[0m\u001b[1m\u001b[0m\n",
      "\u001b[22mNote that the flow was deployed with a modified name due to Kubernetes naming conventions\n",
      "on Argo Workflows. The original flow name is stored in the workflow annotation.\n",
      "\u001b[K\u001b[0m\u001b[22m\u001b[0m\n",
      "\u001b[1mSee the deployed workflow here:\u001b[K\u001b[0m\u001b[1m\u001b[0m\n",
      "\u001b[22m    https://argo-pw-1851997417.outerbounds.dev/workflow-templates/jobs-pw-1851997417/fullstack.prod.challenger.taxifareprediction\n",
      "    \u001b[K\u001b[0m\u001b[22m\u001b[0m\n",
      "\u001b[1mWhat will trigger execution of the workflow:\u001b[K\u001b[0m\u001b[1m\u001b[0m\n",
      "\u001b[22m    No triggers defined. You need to launch this workflow manually.\u001b[K\u001b[0m\u001b[22m\u001b[0m\n"
     ]
    }
   ],
   "source": [
    "!python ../flows/cloud/taxi_fare_challenger.py --environment=conda --production --branch challenger argo-workflows create\n"
   ]
  },
  {
   "cell_type": "code",
   "execution_count": 33,
   "metadata": {},
   "outputs": [
    {
     "name": "stdout",
     "output_type": "stream",
     "text": [
      "\u001b[35m\u001b[1mMetaflow 2.10.6+ob(v1)\u001b[0m\u001b[35m\u001b[22m executing \u001b[0m\u001b[31m\u001b[1mTaxiFarePrediction\u001b[0m\u001b[35m\u001b[22m\u001b[0m\u001b[35m\u001b[22m for \u001b[0m\u001b[31m\u001b[1muser:sandbox\u001b[0m\u001b[35m\u001b[22m\u001b[K\u001b[0m\u001b[35m\u001b[22m\u001b[0m\n",
      "\u001b[35m\u001b[22mProject: \u001b[0m\u001b[32m\u001b[1mfullstack\u001b[0m\u001b[35m\u001b[22m, Branch: \u001b[0m\u001b[32m\u001b[1mprod.challenger\u001b[0m\u001b[35m\u001b[22m\u001b[K\u001b[0m\u001b[35m\u001b[22m\u001b[0m\n",
      "\u001b[35m\u001b[22mValidating your flow...\u001b[K\u001b[0m\u001b[35m\u001b[22m\u001b[0m\n",
      "\u001b[32m\u001b[1m    The graph looks good!\u001b[K\u001b[0m\u001b[32m\u001b[1m\u001b[0m\n",
      "\u001b[35m\u001b[22mRunning pylint...\u001b[K\u001b[0m\u001b[35m\u001b[22m\u001b[0m\n",
      "\u001b[32m\u001b[1m    Pylint is happy!\u001b[K\u001b[0m\u001b[32m\u001b[1m\u001b[0m\n",
      "\u001b[1mWorkflow \u001b[0m\u001b[31m\u001b[1mfullstack.prod.challenger.taxifareprediction\u001b[0m\u001b[1m triggered on Argo Workflows (run-id \u001b[0m\u001b[31m\u001b[1margo-fullstack.prod.challenger.taxifareprediction-flq6b\u001b[0m\u001b[1m).\u001b[K\u001b[0m\u001b[1m\u001b[0m\n",
      "\u001b[1mSee the run in the UI at https://ui-pw-1851997417.outerbounds.dev/TaxiFarePrediction/argo-fullstack.prod.challenger.taxifareprediction-flq6b\u001b[K\u001b[0m\u001b[1m\u001b[0m\n"
     ]
    }
   ],
   "source": [
    "!python ../flows/cloud/taxi_fare_challenger.py --environment=conda --production --branch challenger argo-workflows trigger"
   ]
  },
  {
   "cell_type": "code",
   "execution_count": 7,
   "metadata": {},
   "outputs": [],
   "source": [
    "challenger_namespace = 'production:mfprj-uj55bdalmyvezuhl-0-bixe'"
   ]
  },
  {
   "cell_type": "code",
   "execution_count": 31,
   "metadata": {},
   "outputs": [
    {
     "data": {
      "text/plain": [
       "[Flow('TaxiFarePrediction')]"
      ]
     },
     "execution_count": 31,
     "metadata": {},
     "output_type": "execute_result"
    }
   ],
   "source": [
    "from metaflow import namespace, Metaflow\n",
    "namespace(challenger_namespace)\n",
    "Metaflow().flows"
   ]
  },
  {
   "attachments": {},
   "cell_type": "markdown",
   "metadata": {},
   "source": [
    "## Task 3: Analyze the results\n",
    "Return to this notebook, and read in the results of the challenger and champion flow using the Metaflow Client API.\n",
    "<br><br>\n",
    "\n",
    "#### Questions\n",
    "- Does your model perform better on the metrics you selected? \n",
    "- Think about your day job, how would you go about assessing whether to roll forward the production \"champion\" to your new model? \n",
    "    - What gives you confidence one model is better than another?\n",
    "    - What kinds of information do you need to monitor to get buy-in from stakeholders that model A is preferable to model B?  "
   ]
  },
  {
   "cell_type": "code",
   "execution_count": 12,
   "metadata": {},
   "outputs": [],
   "source": [
    "from metaflow import namespace, Metaflow, Flow"
   ]
  },
  {
   "cell_type": "code",
   "execution_count": 35,
   "metadata": {},
   "outputs": [
    {
     "name": "stdout",
     "output_type": "stream",
     "text": [
      "The winner is challenger with accuracy 0.8963054466599946 in namespace production:mfprj-uj55bdalmyvezuhl-0-bixe\n"
     ]
    }
   ],
   "source": [
    "best_score = -1; winner = None; winner_namespace = None\n",
    "for n,model in zip([champ_namespace, challenger_namespace],['champion','challenger']):\n",
    "    namespace(n)\n",
    "    run = Flow('TaxiFarePrediction').latest_successful_run\n",
    "    acc_score = run.data.scores.mean()\n",
    "    if acc_score > best_score:\n",
    "        best_score = acc_score\n",
    "        winner = model\n",
    "        winner_namespace = n\n",
    "print(f'The winner is {model} with accuracy {best_score} in namespace {winner_namespace}')"
   ]
  },
  {
   "attachments": {},
   "cell_type": "markdown",
   "metadata": {},
   "source": [
    "## CONGRATULATIONS! 🎉✨🍾\n",
    "If you made it this far, you have completed the Full Stack Machine Learning Corise course. \n",
    "We are so glad that you chose to learn with us, and hope to see you again in future courses. Stay tuned for more content and come join us in [Slack](http://slack.outerbounds.co/) to keep learning about Metaflow!"
   ]
  }
 ],
 "metadata": {
  "kernelspec": {
   "display_name": "full-stack-metaflow",
   "language": "python",
   "name": "python3"
  },
  "language_info": {
   "codemirror_mode": {
    "name": "ipython",
    "version": 3
   },
   "file_extension": ".py",
   "mimetype": "text/x-python",
   "name": "python",
   "nbconvert_exporter": "python",
   "pygments_lexer": "ipython3",
   "version": "3.10.12"
  },
  "orig_nbformat": 4
 },
 "nbformat": 4,
 "nbformat_minor": 2
}
